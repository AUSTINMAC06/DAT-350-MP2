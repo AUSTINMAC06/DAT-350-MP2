{
 "cells": [
  {
   "cell_type": "code",
   "execution_count": 1,
   "metadata": {},
   "outputs": [],
   "source": [
    "# import libraries\n",
    "import pandas as pd \n",
    "import matplotlib.pyplot as plt"
   ]
  },
  {
   "cell_type": "code",
   "execution_count": 17,
   "metadata": {},
   "outputs": [
    {
     "data": {
      "text/html": [
       "<div>\n",
       "<style scoped>\n",
       "    .dataframe tbody tr th:only-of-type {\n",
       "        vertical-align: middle;\n",
       "    }\n",
       "\n",
       "    .dataframe tbody tr th {\n",
       "        vertical-align: top;\n",
       "    }\n",
       "\n",
       "    .dataframe thead th {\n",
       "        text-align: right;\n",
       "    }\n",
       "</style>\n",
       "<table border=\"1\" class=\"dataframe\">\n",
       "  <thead>\n",
       "    <tr style=\"text-align: right;\">\n",
       "      <th></th>\n",
       "      <th>Car_id</th>\n",
       "      <th>Date</th>\n",
       "      <th>Customer Name</th>\n",
       "      <th>Gender</th>\n",
       "      <th>Annual Income</th>\n",
       "      <th>Dealer_Name</th>\n",
       "      <th>Company</th>\n",
       "      <th>Model</th>\n",
       "      <th>Engine</th>\n",
       "      <th>Transmission</th>\n",
       "      <th>Color</th>\n",
       "      <th>Price ($)</th>\n",
       "      <th>Dealer_No</th>\n",
       "      <th>Body Style</th>\n",
       "      <th>Phone</th>\n",
       "      <th>Dealer_Region</th>\n",
       "    </tr>\n",
       "  </thead>\n",
       "  <tbody>\n",
       "    <tr>\n",
       "      <th>0</th>\n",
       "      <td>C_CND_000001</td>\n",
       "      <td>1/2/2022</td>\n",
       "      <td>Geraldine</td>\n",
       "      <td>Male</td>\n",
       "      <td>13500</td>\n",
       "      <td>Buddy Storbeck's Diesel Service Inc</td>\n",
       "      <td>Ford</td>\n",
       "      <td>Expedition</td>\n",
       "      <td>DoubleÂ Overhead Camshaft</td>\n",
       "      <td>Auto</td>\n",
       "      <td>Black</td>\n",
       "      <td>26000</td>\n",
       "      <td>06457-3834</td>\n",
       "      <td>SUV</td>\n",
       "      <td>8264678</td>\n",
       "      <td>Middletown</td>\n",
       "    </tr>\n",
       "    <tr>\n",
       "      <th>1</th>\n",
       "      <td>C_CND_000002</td>\n",
       "      <td>1/2/2022</td>\n",
       "      <td>Gia</td>\n",
       "      <td>Male</td>\n",
       "      <td>1480000</td>\n",
       "      <td>C &amp; M Motors Inc</td>\n",
       "      <td>Dodge</td>\n",
       "      <td>Durango</td>\n",
       "      <td>DoubleÂ Overhead Camshaft</td>\n",
       "      <td>Auto</td>\n",
       "      <td>Black</td>\n",
       "      <td>19000</td>\n",
       "      <td>60504-7114</td>\n",
       "      <td>SUV</td>\n",
       "      <td>6848189</td>\n",
       "      <td>Aurora</td>\n",
       "    </tr>\n",
       "    <tr>\n",
       "      <th>2</th>\n",
       "      <td>C_CND_000003</td>\n",
       "      <td>1/2/2022</td>\n",
       "      <td>Gianna</td>\n",
       "      <td>Male</td>\n",
       "      <td>1035000</td>\n",
       "      <td>Capitol KIA</td>\n",
       "      <td>Cadillac</td>\n",
       "      <td>Eldorado</td>\n",
       "      <td>Overhead Camshaft</td>\n",
       "      <td>Manual</td>\n",
       "      <td>Red</td>\n",
       "      <td>31500</td>\n",
       "      <td>38701-8047</td>\n",
       "      <td>Passenger</td>\n",
       "      <td>7298798</td>\n",
       "      <td>Greenville</td>\n",
       "    </tr>\n",
       "    <tr>\n",
       "      <th>3</th>\n",
       "      <td>C_CND_000004</td>\n",
       "      <td>1/2/2022</td>\n",
       "      <td>Giselle</td>\n",
       "      <td>Male</td>\n",
       "      <td>13500</td>\n",
       "      <td>Chrysler of Tri-Cities</td>\n",
       "      <td>Toyota</td>\n",
       "      <td>Celica</td>\n",
       "      <td>Overhead Camshaft</td>\n",
       "      <td>Manual</td>\n",
       "      <td>Pale White</td>\n",
       "      <td>14000</td>\n",
       "      <td>99301-3882</td>\n",
       "      <td>SUV</td>\n",
       "      <td>6257557</td>\n",
       "      <td>Pasco</td>\n",
       "    </tr>\n",
       "    <tr>\n",
       "      <th>4</th>\n",
       "      <td>C_CND_000005</td>\n",
       "      <td>1/2/2022</td>\n",
       "      <td>Grace</td>\n",
       "      <td>Male</td>\n",
       "      <td>1465000</td>\n",
       "      <td>Chrysler Plymouth</td>\n",
       "      <td>Acura</td>\n",
       "      <td>TL</td>\n",
       "      <td>DoubleÂ Overhead Camshaft</td>\n",
       "      <td>Auto</td>\n",
       "      <td>Red</td>\n",
       "      <td>24500</td>\n",
       "      <td>53546-9427</td>\n",
       "      <td>Hatchback</td>\n",
       "      <td>7081483</td>\n",
       "      <td>Janesville</td>\n",
       "    </tr>\n",
       "  </tbody>\n",
       "</table>\n",
       "</div>"
      ],
      "text/plain": [
       "         Car_id      Date Customer Name Gender  Annual Income  \\\n",
       "0  C_CND_000001  1/2/2022     Geraldine   Male          13500   \n",
       "1  C_CND_000002  1/2/2022           Gia   Male        1480000   \n",
       "2  C_CND_000003  1/2/2022        Gianna   Male        1035000   \n",
       "3  C_CND_000004  1/2/2022       Giselle   Male          13500   \n",
       "4  C_CND_000005  1/2/2022         Grace   Male        1465000   \n",
       "\n",
       "                           Dealer_Name   Company       Model  \\\n",
       "0  Buddy Storbeck's Diesel Service Inc      Ford  Expedition   \n",
       "1                     C & M Motors Inc     Dodge     Durango   \n",
       "2                          Capitol KIA  Cadillac    Eldorado   \n",
       "3               Chrysler of Tri-Cities    Toyota      Celica   \n",
       "4                    Chrysler Plymouth     Acura          TL   \n",
       "\n",
       "                      Engine Transmission       Color  Price ($)  Dealer_No   \\\n",
       "0  DoubleÂ Overhead Camshaft         Auto       Black      26000  06457-3834   \n",
       "1  DoubleÂ Overhead Camshaft         Auto       Black      19000  60504-7114   \n",
       "2          Overhead Camshaft       Manual         Red      31500  38701-8047   \n",
       "3          Overhead Camshaft       Manual  Pale White      14000  99301-3882   \n",
       "4  DoubleÂ Overhead Camshaft         Auto         Red      24500  53546-9427   \n",
       "\n",
       "  Body Style    Phone Dealer_Region  \n",
       "0        SUV  8264678    Middletown  \n",
       "1        SUV  6848189        Aurora  \n",
       "2  Passenger  7298798    Greenville  \n",
       "3        SUV  6257557         Pasco  \n",
       "4  Hatchback  7081483    Janesville  "
      ]
     },
     "execution_count": 17,
     "metadata": {},
     "output_type": "execute_result"
    }
   ],
   "source": [
    "# importing the dataset \n",
    "rawCarDF = pd.read_csv(\"Carsales.csv\")\n",
    "rawCarDF.head()"
   ]
  },
  {
   "cell_type": "code",
   "execution_count": 3,
   "metadata": {},
   "outputs": [
    {
     "data": {
      "text/plain": [
       "Car_id           0\n",
       "Date             0\n",
       "Customer Name    1\n",
       "Gender           0\n",
       "Annual Income    0\n",
       "Dealer_Name      0\n",
       "Company          0\n",
       "Model            0\n",
       "Engine           0\n",
       "Transmission     0\n",
       "Color            0\n",
       "Price ($)        0\n",
       "Dealer_No        0\n",
       "Body Style       0\n",
       "Phone            0\n",
       "Dealer_Region    0\n",
       "dtype: int64"
      ]
     },
     "execution_count": 3,
     "metadata": {},
     "output_type": "execute_result"
    }
   ],
   "source": [
    "rawCarDF.isna().sum()"
   ]
  },
  {
   "cell_type": "markdown",
   "metadata": {},
   "source": [
    "Finding the Frequencies of columns"
   ]
  },
  {
   "cell_type": "code",
   "execution_count": 6,
   "metadata": {},
   "outputs": [
    {
     "name": "stdout",
     "output_type": "stream",
     "text": [
      "Date\n",
      "9/5/2023      190\n",
      "11/10/2023    175\n",
      "12/29/2023    151\n",
      "12/11/2023    140\n",
      "11/24/2023    135\n",
      "             ... \n",
      "6/21/2022       5\n",
      "7/12/2023       5\n",
      "12/9/2022       5\n",
      "7/8/2022        5\n",
      "6/29/2023       5\n",
      "Name: count, Length: 612, dtype: int64\n"
     ]
    }
   ],
   "source": [
    "dateFrequency = rawCarDF[\"Date\"].value_counts()\n",
    "print(dateFrequency)"
   ]
  },
  {
   "cell_type": "code",
   "execution_count": 8,
   "metadata": {},
   "outputs": [
    {
     "name": "stdout",
     "output_type": "stream",
     "text": [
      "Gender\n",
      "Male      18798\n",
      "Female     5108\n",
      "Name: count, dtype: int64\n"
     ]
    }
   ],
   "source": [
    "genderFrequency = rawCarDF[\"Gender\"].value_counts()\n",
    "print(genderFrequency)"
   ]
  },
  {
   "cell_type": "code",
   "execution_count": 9,
   "metadata": {},
   "outputs": [
    {
     "name": "stdout",
     "output_type": "stream",
     "text": [
      "Dealer_Name\n",
      "Progressive Shippers Cooperative Association No    1318\n",
      "Rabun Used Car Sales                               1313\n",
      "Race Car Help                                      1253\n",
      "Saab-Belle Dodge                                   1251\n",
      "Star Enterprises Inc                               1249\n",
      "Tri-State Mack Inc                                 1249\n",
      "Ryder Truck Rental and Leasing                     1248\n",
      "U-Haul CO                                          1247\n",
      "Scrivener Performance Engineering                  1246\n",
      "Suburban Ford                                      1243\n",
      "Nebo Chevrolet                                      633\n",
      "Pars Auto Sales                                     630\n",
      "New Castle Ford Lincoln Mercury                     629\n",
      "McKinney Dodge Chrysler Jeep                        629\n",
      "Hatfield Volkswagen                                 629\n",
      "Gartner Buick Hyundai Saab                          628\n",
      "Pitre Buick-Pontiac-Gmc of Scottsdale               628\n",
      "Capitol KIA                                         628\n",
      "Clay Johnson Auto Sales                             627\n",
      "Iceberg Rentals                                     627\n",
      "Buddy Storbeck's Diesel Service Inc                 627\n",
      "Motor Vehicle Branch Office                         626\n",
      "Chrysler of Tri-Cities                              626\n",
      "C & M Motors Inc                                    625\n",
      "Enterprise Rent A Car                               625\n",
      "Chrysler Plymouth                                   625\n",
      "Diehl Motor CO Inc                                  624\n",
      "Classic Chevy                                       623\n",
      "Name: count, dtype: int64\n"
     ]
    }
   ],
   "source": [
    "dealerNameFrequency = rawCarDF[\"Dealer_Name\"].value_counts()\n",
    "print(dealerNameFrequency)"
   ]
  },
  {
   "cell_type": "code",
   "execution_count": 10,
   "metadata": {},
   "outputs": [
    {
     "name": "stdout",
     "output_type": "stream",
     "text": [
      "Company\n",
      "Chevrolet     1819\n",
      "Dodge         1671\n",
      "Ford          1614\n",
      "Volkswagen    1333\n",
      "Mercedes-B    1285\n",
      "Mitsubishi    1277\n",
      "Chrysler      1120\n",
      "Oldsmobile    1111\n",
      "Toyota        1110\n",
      "Nissan         886\n",
      "Mercury        874\n",
      "Lexus          802\n",
      "Pontiac        796\n",
      "BMW            790\n",
      "Volvo          789\n",
      "Honda          708\n",
      "Acura          689\n",
      "Cadillac       652\n",
      "Plymouth       617\n",
      "Saturn         586\n",
      "Lincoln        492\n",
      "Audi           468\n",
      "Buick          439\n",
      "Subaru         405\n",
      "Jeep           363\n",
      "Porsche        361\n",
      "Hyundai        264\n",
      "Saab           210\n",
      "Infiniti       195\n",
      "Jaguar         180\n",
      "Name: count, dtype: int64\n"
     ]
    }
   ],
   "source": [
    "companyFrequency = rawCarDF[\"Company\"].value_counts()\n",
    "print(companyFrequency)"
   ]
  },
  {
   "cell_type": "code",
   "execution_count": 11,
   "metadata": {},
   "outputs": [
    {
     "name": "stdout",
     "output_type": "stream",
     "text": [
      "Model\n",
      "Diamante         418\n",
      "Silhouette       411\n",
      "Prizm            411\n",
      "Passat           391\n",
      "Ram Pickup       383\n",
      "                ... \n",
      "Mirage            19\n",
      "Alero             18\n",
      "RX300             15\n",
      "Avalon            15\n",
      "Sebring Conv.     10\n",
      "Name: count, Length: 154, dtype: int64\n"
     ]
    }
   ],
   "source": [
    "modelFrequency = rawCarDF[\"Model\"].value_counts()\n",
    "print(modelFrequency)"
   ]
  },
  {
   "cell_type": "code",
   "execution_count": 12,
   "metadata": {},
   "outputs": [
    {
     "name": "stdout",
     "output_type": "stream",
     "text": [
      "Engine\n",
      "DoubleÂ Overhead Camshaft    12571\n",
      "Overhead Camshaft            11335\n",
      "Name: count, dtype: int64\n"
     ]
    }
   ],
   "source": [
    "engineFrequency = rawCarDF[\"Engine\"].value_counts()\n",
    "print(engineFrequency)"
   ]
  },
  {
   "cell_type": "code",
   "execution_count": 13,
   "metadata": {},
   "outputs": [
    {
     "name": "stdout",
     "output_type": "stream",
     "text": [
      "Transmission\n",
      "Auto      12571\n",
      "Manual    11335\n",
      "Name: count, dtype: int64\n"
     ]
    }
   ],
   "source": [
    "transmissionFrequency = rawCarDF[\"Transmission\"].value_counts()\n",
    "print(transmissionFrequency)"
   ]
  },
  {
   "cell_type": "code",
   "execution_count": 14,
   "metadata": {},
   "outputs": [
    {
     "name": "stdout",
     "output_type": "stream",
     "text": [
      "Color\n",
      "Pale White    11256\n",
      "Black          7857\n",
      "Red            4793\n",
      "Name: count, dtype: int64\n"
     ]
    }
   ],
   "source": [
    "colorFrequency = rawCarDF[\"Color\"].value_counts()\n",
    "print(colorFrequency)"
   ]
  },
  {
   "cell_type": "code",
   "execution_count": 15,
   "metadata": {},
   "outputs": [
    {
     "name": "stdout",
     "output_type": "stream",
     "text": [
      "Price ($)\n",
      "22000    1191\n",
      "19000     974\n",
      "21000     873\n",
      "26000     689\n",
      "18000     627\n",
      "         ... \n",
      "13350       1\n",
      "20101       1\n",
      "49601       1\n",
      "13850       1\n",
      "11060       1\n",
      "Name: count, Length: 870, dtype: int64\n"
     ]
    }
   ],
   "source": [
    "priceFrequency = rawCarDF[\"Price ($)\"].value_counts()\n",
    "print(priceFrequency)"
   ]
  },
  {
   "cell_type": "code",
   "execution_count": 16,
   "metadata": {},
   "outputs": [
    {
     "name": "stdout",
     "output_type": "stream",
     "text": [
      "Body Style\n",
      "SUV          6374\n",
      "Hatchback    6128\n",
      "Sedan        4488\n",
      "Passenger    3945\n",
      "Hardtop      2971\n",
      "Name: count, dtype: int64\n"
     ]
    }
   ],
   "source": [
    "bodyStyleFrequency = rawCarDF[\"Body Style\"].value_counts()\n",
    "print(bodyStyleFrequency)"
   ]
  },
  {
   "cell_type": "markdown",
   "metadata": {},
   "source": [
    "Graph 1: Finding which month(s) out of the year has the most car sales"
   ]
  },
  {
   "cell_type": "code",
   "execution_count": 37,
   "metadata": {},
   "outputs": [
    {
     "name": "stdout",
     "output_type": "stream",
     "text": [
      "Date\n",
      "1      790\n",
      "2      735\n",
      "3     1535\n",
      "4     1655\n",
      "5     1895\n",
      "6     1715\n",
      "7     1725\n",
      "8     1705\n",
      "9     3305\n",
      "10    1830\n",
      "11    3470\n",
      "12    3546\n",
      "dtype: int64\n"
     ]
    }
   ],
   "source": [
    "# I used chatGPT to help turn my date column into datetime format. This way I could group by months and find how many sales were in each month.\n",
    "rawCarDF['Date'] = pd.to_datetime(rawCarDF['Date'], format = '%m/%d/%Y')\n",
    "monthlySalesDF = rawCarDF.groupby(rawCarDF['Date'].dt.month).size()\n",
    "print(monthlySalesDF)"
   ]
  },
  {
   "cell_type": "code",
   "execution_count": 40,
   "metadata": {},
   "outputs": [
    {
     "data": {
      "image/png": "[encoded data removed]",
      "text/plain": [
       "<Figure size 700x700 with 1 Axes>"
      ]
     },
     "metadata": {},
     "output_type": "display_data"
    }
   ],
   "source": [
    "monthlySalesDF.plot(kind='bar', figsize= (7,7), color= '#26EB65')\n",
    "plt.xlabel(\"Month\", labelpad=14)\n",
    "plt.ylabel(\"Number of Sales\", labelpad=14)\n",
    "plt.title(\"Number of Sales Each Month\")\n",
    "plt.xticks(rotation=0) # My months were turned sideways on my x-axis so I used chatGPT find out how to rotate them.\n",
    "plt.show()"
   ]
  },
  {
   "cell_type": "markdown",
   "metadata": {},
   "source": [
    "Graph 2 and 3: Pie Chart and Bar Graph showing different body styles"
   ]
  },
  {
   "cell_type": "code",
   "execution_count": 61,
   "metadata": {},
   "outputs": [
    {
     "data": {
      "image/png": "[encoded data removed]",
      "text/plain": [
       "<Figure size 1000x1000 with 2 Axes>"
      ]
     },
     "metadata": {},
     "output_type": "display_data"
    }
   ],
   "source": [
    "fig, axs = plt.subplots(2, figsize=(10, 10))\n",
    "axs[0].pie(x=bodyStyleFrequency, labels=bodyStyleFrequency.index, autopct = '%1.1f%%', colors = ['#EBE511', '#8E37EB', '#26EBD3', '#EB6226', '#E897EB'])\n",
    "axs[0].set_title(\"Percentage of Each Car Body Style\")\n",
    "bodyStyleFrequency.plot(kind='bar', ax=axs[1], color= '#3342EB')\n",
    "axs[1].set_xlabel(\"Body Style\")\n",
    "axs[1].set_ylabel(\"Count\")\n",
    "axs[1].set_title(\"Number of Car Body Styles\")\n",
    "plt.show()\n"
   ]
  },
  {
   "cell_type": "code",
   "execution_count": null,
   "metadata": {},
   "outputs": [],
   "source": []
  }
 ],
 "metadata": {
  "kernelspec": {
   "display_name": "base",
   "language": "python",
   "name": "python3"
  },
  "language_info": {
   "codemirror_mode": {
    "name": "ipython",
    "version": 3
   },
   "file_extension": ".py",
   "mimetype": "text/x-python",
   "name": "python",
   "nbconvert_exporter": "python",
   "pygments_lexer": "ipython3",
   "version": "3.11.5"
  }
 },
 "nbformat": 4,
 "nbformat_minor": 2
}
